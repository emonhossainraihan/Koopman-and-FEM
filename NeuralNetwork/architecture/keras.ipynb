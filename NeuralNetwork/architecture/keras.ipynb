{
 "cells": [
  {
   "cell_type": "code",
   "execution_count": 1,
   "metadata": {},
   "outputs": [],
   "source": [
    "import tensorflow as tf\n",
    "from tensorflow import keras"
   ]
  },
  {
   "cell_type": "code",
   "execution_count": 2,
   "metadata": {},
   "outputs": [],
   "source": [
    "class Linear(keras.layers.Layer):\n",
    "    \"\"\"y = w.x + b\"\"\"\n",
    "\n",
    "    def __init__(self, units=32, input_dim=32):\n",
    "        super(Linear, self).__init__()\n",
    "        w_init = tf.random_normal_initializer()\n",
    "        self.w = tf.Variable(\n",
    "            initial_value=w_init(shape=(input_dim, units), dtype=\"float32\"),\n",
    "            trainable=True,\n",
    "        )\n",
    "        b_init = tf.zeros_initializer()\n",
    "        self.b = tf.Variable(\n",
    "            initial_value=b_init(shape=(units,), dtype=\"float32\"), trainable=True\n",
    "        )\n",
    "\n",
    "    def call(self, inputs):\n",
    "        return tf.matmul(inputs, self.w) + self.b"
   ]
  },
  {
   "cell_type": "code",
   "execution_count": 3,
   "metadata": {},
   "outputs": [
    {
     "data": {
      "text/plain": [
       "[<tf.Variable 'Variable:0' shape=(2, 4) dtype=float32, numpy=\n",
       " array([[ 0.04436712,  0.02361266, -0.08837948, -0.02131345],\n",
       "        [ 0.005831  ,  0.02655473,  0.01400602, -0.05616408]],\n",
       "       dtype=float32)>,\n",
       " <tf.Variable 'Variable:0' shape=(4,) dtype=float32, numpy=array([0., 0., 0., 0.], dtype=float32)>]"
      ]
     },
     "execution_count": 3,
     "metadata": {},
     "output_type": "execute_result"
    }
   ],
   "source": [
    "linear_layer = Linear(units=4, input_dim=2)\n",
    "linear_layer.weights"
   ]
  },
  {
   "cell_type": "code",
   "execution_count": 4,
   "metadata": {},
   "outputs": [
    {
     "data": {
      "text/plain": [
       "(keras.engine.training.Model,\n",
       " keras.engine.base_layer.Layer,\n",
       " tensorflow.python.module.module.Module,\n",
       " tensorflow.python.training.tracking.autotrackable.AutoTrackable,\n",
       " tensorflow.python.training.tracking.base.Trackable,\n",
       " keras.utils.version_utils.LayerVersionSelector,\n",
       " keras.utils.version_utils.ModelVersionSelector,\n",
       " object)"
      ]
     },
     "execution_count": 4,
     "metadata": {},
     "output_type": "execute_result"
    }
   ],
   "source": [
    "import inspect\n",
    "from tensorflow.keras.models import Model\n",
    "inspect.getmro(Model)"
   ]
  },
  {
   "cell_type": "code",
   "execution_count": 5,
   "metadata": {},
   "outputs": [
    {
     "name": "stdout",
     "output_type": "stream",
     "text": [
      "WARNING:tensorflow:From c:\\Users\\websi\\Downloads\\PINN experiment\\env\\lib\\site-packages\\tensorflow\\python\\ops\\summary_ops_v2.py:1332: start (from tensorflow.python.eager.profiler) is deprecated and will be removed after 2020-07-01.\n",
      "Instructions for updating:\n",
      "use `tf.profiler.experimental.start` instead.\n",
      "WARNING:tensorflow:From c:\\Users\\websi\\Downloads\\PINN experiment\\env\\lib\\site-packages\\tensorflow\\python\\ops\\summary_ops_v2.py:1383: stop (from tensorflow.python.eager.profiler) is deprecated and will be removed after 2020-07-01.\n",
      "Instructions for updating:\n",
      "use `tf.profiler.experimental.stop` instead.\n",
      "WARNING:tensorflow:From c:\\Users\\websi\\Downloads\\PINN experiment\\env\\lib\\site-packages\\tensorflow\\python\\ops\\summary_ops_v2.py:1383: save (from tensorflow.python.eager.profiler) is deprecated and will be removed after 2020-07-01.\n",
      "Instructions for updating:\n",
      "`tf.python.eager.profiler` has deprecated, use `tf.profiler` instead.\n",
      "WARNING:tensorflow:From c:\\Users\\websi\\Downloads\\PINN experiment\\env\\lib\\site-packages\\tensorflow\\python\\eager\\profiler.py:150: maybe_create_event_file (from tensorflow.python.eager.profiler) is deprecated and will be removed after 2020-07-01.\n",
      "Instructions for updating:\n",
      "`tf.python.eager.profiler` has deprecated, use `tf.profiler` instead.\n"
     ]
    }
   ],
   "source": [
    "import tensorflow as tf\n",
    "import numpy as np\n",
    "from tensorflow.keras import layers\n",
    "\n",
    "class MyModel(tf.keras.Model):\n",
    "\n",
    "  def __init__(self, num_classes=10):\n",
    "    super(MyModel, self).__init__(name='my_model')\n",
    "    self.num_classes = num_classes\n",
    "    self.dense_1 = layers.Dense(32, activation='relu')\n",
    "    self.dense_2 = layers.Dense(num_classes, activation='sigmoid')\n",
    "\n",
    "  def call(self, inputs): \n",
    "    x = self.dense_1(inputs)\n",
    "    return self.dense_2(x)\n",
    "\n",
    "model = MyModel(num_classes=10)\n",
    "\n",
    "model.compile(optimizer=tf.keras.optimizers.RMSprop(0.001),\n",
    "              loss='categorical_crossentropy',\n",
    "              metrics=['accuracy'])\n",
    "\n",
    "data = np.random.random((1000, 32))\n",
    "labels = np.random.random((1000, 10))\n",
    "\n",
    "@tf.function\n",
    "def trace():\n",
    "  data = np.random.random((1, 32))\n",
    "  model(data)\n",
    "\n",
    "\n",
    "logdir = \"trace_log\"\n",
    "writer = tf.summary.create_file_writer(logdir)\n",
    "tf.summary.trace_on(graph=True, profiler=True)\n",
    "# Forward pass\n",
    "trace()\n",
    "with writer.as_default():\n",
    "  tf.summary.trace_export(name=\"model_trace\", step=0, profiler_outdir=logdir)"
   ]
  },
  {
   "cell_type": "markdown",
   "metadata": {},
   "source": [
    "## Koopman"
   ]
  },
  {
   "cell_type": "code",
   "execution_count": 6,
   "metadata": {},
   "outputs": [],
   "source": [
    "class DenseResBlock(keras.layers.Layer):\n",
    "    def __init__(self,\n",
    "                 n_inputs=128,\n",
    "                 num_hidden=4,\n",
    "                 hidden_config=dict(activation='relu',\n",
    "                                    kernel_initializer='he_normal'),\n",
    "                 output_config=dict(activation=None,\n",
    "                                    kernel_initializer='he_normal'),\n",
    "                 **kwargs):\n",
    "        super().__init__(**kwargs)\n",
    "        self.n_inputs = n_inputs\n",
    "        self.num_hidden = num_hidden\n",
    "        self.layers = [keras.layers.Dense(n_inputs,\n",
    "                                          name='hidden{}'.format(i),\n",
    "                                          **hidden_config)\n",
    "                       for i in range(num_hidden)]\n",
    "        self.layers.append(keras.layers.Dense(n_inputs,\n",
    "                                              name='output',\n",
    "                                              **output_config))\n",
    "    def call(self, inputs):\n",
    "        x = inputs\n",
    "        for layer in self.layers:\n",
    "            x = layer(x) # recurrently apply the hidden layers\n",
    "        return inputs + x  # Add input to output"
   ]
  },
  {
   "cell_type": "code",
   "execution_count": 8,
   "metadata": {},
   "outputs": [],
   "source": [
    "from NetworkArch import NetworkArch"
   ]
  },
  {
   "cell_type": "code",
   "execution_count": 11,
   "metadata": {},
   "outputs": [
    {
     "ename": "ValueError",
     "evalue": "Exception encountered when calling layer \"dense_res_block\" (type DenseResBlock).\n\nin user code:\n\n    File \"c:\\Users\\websi\\Downloads\\PINN experiment\\PDEKoopman2-master\\architecture\\DenseResBlock.py\", line 51, in call  *\n        return inputs + x  # Add input to output\n\n    ValueError: Dimensions must be equal, but are 51 and 128 for '{{node dense_res_block/add}} = AddV2[T=DT_FLOAT](Reshape, dense_res_block/output/BiasAdd)' with input shapes: [2688,51], [2688,128].\n\n\nCall arguments received by layer \"dense_res_block\" (type DenseResBlock):\n  • inputs=tf.Tensor(shape=(2688, 51), dtype=float32)",
     "output_type": "error",
     "traceback": [
      "\u001b[1;31m---------------------------------------------------------------------------\u001b[0m",
      "\u001b[1;31mValueError\u001b[0m                                Traceback (most recent call last)",
      "\u001b[1;32mc:\\Users\\websi\\Downloads\\PINN experiment\\PDEKoopman2-master\\architecture\\keras.ipynb Cell 9\u001b[0m in \u001b[0;36m<cell line: 2>\u001b[1;34m()\u001b[0m\n\u001b[0;32m      <a href='vscode-notebook-cell:/c%3A/Users/websi/Downloads/PINN%20experiment/PDEKoopman2-master/architecture/keras.ipynb#ch0000008?line=0'>1</a>\u001b[0m model \u001b[39m=\u001b[39m NetworkArch()\n\u001b[1;32m----> <a href='vscode-notebook-cell:/c%3A/Users/websi/Downloads/PINN%20experiment/PDEKoopman2-master/architecture/keras.ipynb#ch0000008?line=1'>2</a>\u001b[0m model\u001b[39m.\u001b[39;49mbuild([\u001b[39m128\u001b[39;49m,\u001b[39m21\u001b[39;49m,\u001b[39m51\u001b[39;49m])\n\u001b[0;32m      <a href='vscode-notebook-cell:/c%3A/Users/websi/Downloads/PINN%20experiment/PDEKoopman2-master/architecture/keras.ipynb#ch0000008?line=2'>3</a>\u001b[0m model\u001b[39m.\u001b[39msummary()\n",
      "File \u001b[1;32mc:\\Users\\websi\\Downloads\\PINN experiment\\env\\lib\\site-packages\\keras\\engine\\training.py:449\u001b[0m, in \u001b[0;36mModel.build\u001b[1;34m(self, input_shape)\u001b[0m\n\u001b[0;32m    445\u001b[0m   \u001b[39mraise\u001b[39;00m \u001b[39mValueError\u001b[39;00m(\n\u001b[0;32m    446\u001b[0m       \u001b[39m'\u001b[39m\u001b[39mYou can only call `build()` on a model if its `call()` \u001b[39m\u001b[39m'\u001b[39m\n\u001b[0;32m    447\u001b[0m       \u001b[39m'\u001b[39m\u001b[39mmethod accepts an `inputs` argument.\u001b[39m\u001b[39m'\u001b[39m)\n\u001b[0;32m    448\u001b[0m \u001b[39mtry\u001b[39;00m:\n\u001b[1;32m--> 449\u001b[0m   \u001b[39mself\u001b[39m\u001b[39m.\u001b[39mcall(x, \u001b[39m*\u001b[39m\u001b[39m*\u001b[39mkwargs)\n\u001b[0;32m    450\u001b[0m \u001b[39mexcept\u001b[39;00m (tf\u001b[39m.\u001b[39merrors\u001b[39m.\u001b[39mInvalidArgumentError, \u001b[39mTypeError\u001b[39;00m) \u001b[39mas\u001b[39;00m e:\n\u001b[0;32m    451\u001b[0m   \u001b[39mraise\u001b[39;00m \u001b[39mValueError\u001b[39;00m(\u001b[39m'\u001b[39m\u001b[39mYou cannot build your model by calling `build` \u001b[39m\u001b[39m'\u001b[39m\n\u001b[0;32m    452\u001b[0m                    \u001b[39m'\u001b[39m\u001b[39mif your layers do not support float type inputs. \u001b[39m\u001b[39m'\u001b[39m\n\u001b[0;32m    453\u001b[0m                    \u001b[39m'\u001b[39m\u001b[39mInstead, in order to instantiate and build your \u001b[39m\u001b[39m'\u001b[39m\n\u001b[0;32m    454\u001b[0m                    \u001b[39m'\u001b[39m\u001b[39mmodel, call your model on real tensor data (of \u001b[39m\u001b[39m'\u001b[39m\n\u001b[0;32m    455\u001b[0m                    \u001b[39m'\u001b[39m\u001b[39mthe correct dtype).\u001b[39m\u001b[39m\\n\u001b[39;00m\u001b[39m\\n\u001b[39;00m\u001b[39mThe actual error from \u001b[39m\u001b[39m'\u001b[39m\n\u001b[0;32m    456\u001b[0m                    \u001b[39mf\u001b[39m\u001b[39m'\u001b[39m\u001b[39m`call` is: \u001b[39m\u001b[39m{\u001b[39;00me\u001b[39m}\u001b[39;00m\u001b[39m.\u001b[39m\u001b[39m'\u001b[39m)\n",
      "File \u001b[1;32mc:\\Users\\websi\\Downloads\\PINN experiment\\PDEKoopman2-master\\architecture\\NetworkArch.py:128\u001b[0m, in \u001b[0;36mNetworkArch.call\u001b[1;34m(self, inputs)\u001b[0m\n\u001b[0;32m    124\u001b[0m auto_inputs, pred_inputs, lin_inputs, lin_advanced \u001b[39m=\u001b[39m reshape_inputs(\n\u001b[0;32m    125\u001b[0m     (inputs, pred_inputs, lin_inputs, lin_advanced))\n\u001b[0;32m    127\u001b[0m \u001b[39m# Autoencoder\u001b[39;00m\n\u001b[1;32m--> 128\u001b[0m partially_encoded \u001b[39m=\u001b[39m \u001b[39mself\u001b[39;49m\u001b[39m.\u001b[39;49mouter_encoder(auto_inputs)\n\u001b[0;32m    129\u001b[0m fully_encoded \u001b[39m=\u001b[39m \u001b[39mself\u001b[39m\u001b[39m.\u001b[39minner_encoder(partially_encoded)\n\u001b[0;32m    130\u001b[0m partially_decoded \u001b[39m=\u001b[39m \u001b[39mself\u001b[39m\u001b[39m.\u001b[39minner_decoder(fully_encoded)\n",
      "File \u001b[1;32mc:\\Users\\websi\\Downloads\\PINN experiment\\env\\lib\\site-packages\\keras\\utils\\traceback_utils.py:67\u001b[0m, in \u001b[0;36mfilter_traceback.<locals>.error_handler\u001b[1;34m(*args, **kwargs)\u001b[0m\n\u001b[0;32m     65\u001b[0m \u001b[39mexcept\u001b[39;00m \u001b[39mException\u001b[39;00m \u001b[39mas\u001b[39;00m e:  \u001b[39m# pylint: disable=broad-except\u001b[39;00m\n\u001b[0;32m     66\u001b[0m   filtered_tb \u001b[39m=\u001b[39m _process_traceback_frames(e\u001b[39m.\u001b[39m__traceback__)\n\u001b[1;32m---> 67\u001b[0m   \u001b[39mraise\u001b[39;00m e\u001b[39m.\u001b[39mwith_traceback(filtered_tb) \u001b[39mfrom\u001b[39;00m \u001b[39mNone\u001b[39m\n\u001b[0;32m     68\u001b[0m \u001b[39mfinally\u001b[39;00m:\n\u001b[0;32m     69\u001b[0m   \u001b[39mdel\u001b[39;00m filtered_tb\n",
      "File \u001b[1;32m~\\AppData\\Local\\Temp\\__autograph_generated_filen3g5sham.py:28\u001b[0m, in \u001b[0;36mouter_factory.<locals>.inner_factory.<locals>.tf__call\u001b[1;34m(self, inputs)\u001b[0m\n\u001b[0;32m     26\u001b[0m \u001b[39mtry\u001b[39;00m:\n\u001b[0;32m     27\u001b[0m     do_return \u001b[39m=\u001b[39m \u001b[39mTrue\u001b[39;00m\n\u001b[1;32m---> 28\u001b[0m     retval_ \u001b[39m=\u001b[39m ag__\u001b[39m.\u001b[39mld(inputs) \u001b[39m+\u001b[39m ag__\u001b[39m.\u001b[39mld(x)\n\u001b[0;32m     29\u001b[0m \u001b[39mexcept\u001b[39;00m:\n\u001b[0;32m     30\u001b[0m     do_return \u001b[39m=\u001b[39m \u001b[39mFalse\u001b[39;00m\n",
      "\u001b[1;31mValueError\u001b[0m: Exception encountered when calling layer \"dense_res_block\" (type DenseResBlock).\n\nin user code:\n\n    File \"c:\\Users\\websi\\Downloads\\PINN experiment\\PDEKoopman2-master\\architecture\\DenseResBlock.py\", line 51, in call  *\n        return inputs + x  # Add input to output\n\n    ValueError: Dimensions must be equal, but are 51 and 128 for '{{node dense_res_block/add}} = AddV2[T=DT_FLOAT](Reshape, dense_res_block/output/BiasAdd)' with input shapes: [2688,51], [2688,128].\n\n\nCall arguments received by layer \"dense_res_block\" (type DenseResBlock):\n  • inputs=tf.Tensor(shape=(2688, 51), dtype=float32)"
     ]
    }
   ],
   "source": [
    "model = NetworkArch()\n",
    "model.build([128,21,51])\n",
    "model.summary()"
   ]
  }
 ],
 "metadata": {
  "kernelspec": {
   "display_name": "Python 3.10.5 ('env': venv)",
   "language": "python",
   "name": "python3"
  },
  "language_info": {
   "codemirror_mode": {
    "name": "ipython",
    "version": 3
   },
   "file_extension": ".py",
   "mimetype": "text/x-python",
   "name": "python",
   "nbconvert_exporter": "python",
   "pygments_lexer": "ipython3",
   "version": "3.10.5"
  },
  "orig_nbformat": 4,
  "vscode": {
   "interpreter": {
    "hash": "7bd163cb1043e0726e1cd945572f85f14b35d4eaf0b2cb8a0e3c7a54429f50aa"
   }
  }
 },
 "nbformat": 4,
 "nbformat_minor": 2
}
